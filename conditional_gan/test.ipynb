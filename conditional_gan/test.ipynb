{
 "cells": [
  {
   "cell_type": "code",
   "execution_count": 1,
   "metadata": {},
   "outputs": [],
   "source": [
    "from generator_net import Generator\n",
    "import torch"
   ]
  },
  {
   "cell_type": "code",
   "execution_count": 2,
   "metadata": {},
   "outputs": [
    {
     "data": {
      "text/plain": [
       "(torch.Size([1, 100]),\n",
       " tensor([[-0.5474,  0.7649,  0.8548, -1.4335, -0.6513,  0.5347, -1.1442, -1.4265,\n",
       "          -0.8175,  0.6565,  0.9784, -0.6270,  0.4601,  0.5600,  1.4014, -1.8902,\n",
       "           1.1084,  1.8929, -2.2782,  0.9015, -0.9494,  0.1287, -0.7410,  0.4906,\n",
       "          -0.0600, -1.1696,  0.0761,  0.9100, -0.1784, -0.4413,  1.7865, -0.4598,\n",
       "          -0.9269,  0.4967, -0.8497, -1.5354, -0.3747,  0.4076,  1.1170,  0.9273,\n",
       "           0.7466, -1.5608, -0.6828,  0.2066, -0.4484, -0.2983,  0.8612, -0.6858,\n",
       "           0.8474, -1.0184, -0.0210, -0.0540,  0.0640, -0.2757, -0.1399, -0.8205,\n",
       "           0.7368, -0.4875, -1.6152,  0.7230,  1.4046, -0.0670, -0.1450,  0.7642,\n",
       "          -0.4171,  2.0945, -1.8001, -0.6410,  0.4864, -1.5931, -1.4544,  0.5394,\n",
       "           1.3422,  0.1878, -1.9141,  0.9862,  1.5035,  0.6375,  1.5079, -1.1871,\n",
       "          -0.4493,  0.6853,  0.5788, -0.3573, -0.6366,  0.3278, -0.7843, -0.3895,\n",
       "          -1.0491,  0.2018, -0.8512,  0.7952, -0.5735,  0.5116, -0.3878,  0.8831,\n",
       "           0.8905, -0.4143, -0.8873, -0.4977]]))"
      ]
     },
     "execution_count": 2,
     "metadata": {},
     "output_type": "execute_result"
    }
   ],
   "source": [
    "noise = torch.randn(1, 100)\n",
    "noise.shape, noise"
   ]
  },
  {
   "cell_type": "code",
   "execution_count": 3,
   "metadata": {},
   "outputs": [
    {
     "data": {
      "text/plain": [
       "(torch.Size([1, 1]), tensor([[5.]]))"
      ]
     },
     "execution_count": 3,
     "metadata": {},
     "output_type": "execute_result"
    }
   ],
   "source": [
    "label = torch.randint(0, 10, (1, 1), dtype=torch.float32)\n",
    "label.shape, label"
   ]
  },
  {
   "cell_type": "code",
   "execution_count": 4,
   "metadata": {},
   "outputs": [
    {
     "data": {
      "text/plain": [
       "torch.Size([1, 28, 28])"
      ]
     },
     "execution_count": 4,
     "metadata": {},
     "output_type": "execute_result"
    }
   ],
   "source": [
    "GenNet = Generator()\n",
    "output = GenNet(noise, label)\n",
    "output.shape"
   ]
  },
  {
   "cell_type": "code",
   "execution_count": 5,
   "metadata": {},
   "outputs": [],
   "source": [
    "from discriminator_net import Discriminator"
   ]
  },
  {
   "cell_type": "code",
   "execution_count": 6,
   "metadata": {},
   "outputs": [
    {
     "data": {
      "text/plain": [
       "tensor([[ 0.0497, -0.0627, -0.1664,  0.0619,  0.3573, -0.0911,  0.1277,  0.3420,\n",
       "         -0.1576,  0.1103]], grad_fn=<AddmmBackward0>)"
      ]
     },
     "execution_count": 6,
     "metadata": {},
     "output_type": "execute_result"
    }
   ],
   "source": [
    "DisNet = Discriminator()\n",
    "DisNet(output, label)"
   ]
  }
 ],
 "metadata": {
  "kernelspec": {
   "display_name": "Python 3",
   "language": "python",
   "name": "python3"
  },
  "language_info": {
   "codemirror_mode": {
    "name": "ipython",
    "version": 3
   },
   "file_extension": ".py",
   "mimetype": "text/x-python",
   "name": "python",
   "nbconvert_exporter": "python",
   "pygments_lexer": "ipython3",
   "version": "3.12.3"
  }
 },
 "nbformat": 4,
 "nbformat_minor": 2
}
